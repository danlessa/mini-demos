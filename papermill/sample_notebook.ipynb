{
 "cells": [
  {
   "cell_type": "markdown",
   "metadata": {
    "papermill": {
     "duration": 0.009763,
     "end_time": "2020-07-01T01:44:34.562224",
     "exception": false,
     "start_time": "2020-07-01T01:44:34.552461",
     "status": "completed"
    },
    "tags": []
   },
   "source": [
    "percent to ipynb with parameters"
   ]
  },
  {
   "cell_type": "code",
   "execution_count": 1,
   "metadata": {
    "execution": {
     "iopub.execute_input": "2020-07-01T01:44:34.594941Z",
     "iopub.status.busy": "2020-07-01T01:44:34.592677Z",
     "iopub.status.idle": "2020-07-01T01:44:34.599446Z",
     "shell.execute_reply": "2020-07-01T01:44:34.597666Z"
    },
    "lines_to_next_cell": 0,
    "papermill": {
     "duration": 0.026765,
     "end_time": "2020-07-01T01:44:34.599799",
     "exception": false,
     "start_time": "2020-07-01T01:44:34.573034",
     "status": "completed"
    },
    "tags": [
     "parameters"
    ]
   },
   "outputs": [],
   "source": [
    "text = \"Some text\""
   ]
  },
  {
   "cell_type": "code",
   "execution_count": 2,
   "metadata": {
    "execution": {
     "iopub.execute_input": "2020-07-01T01:44:34.622474Z",
     "iopub.status.busy": "2020-07-01T01:44:34.622061Z",
     "iopub.status.idle": "2020-07-01T01:44:34.624102Z",
     "shell.execute_reply": "2020-07-01T01:44:34.624426Z"
    },
    "papermill": {
     "duration": 0.014883,
     "end_time": "2020-07-01T01:44:34.624521",
     "exception": false,
     "start_time": "2020-07-01T01:44:34.609638",
     "status": "completed"
    },
    "tags": [
     "injected-parameters"
    ]
   },
   "outputs": [],
   "source": [
    "# Parameters\n",
    "text = \"Another text\"\n"
   ]
  },
  {
   "cell_type": "code",
   "execution_count": 3,
   "metadata": {
    "execution": {
     "iopub.execute_input": "2020-07-01T01:44:34.633084Z",
     "iopub.status.busy": "2020-07-01T01:44:34.632637Z",
     "iopub.status.idle": "2020-07-01T01:44:34.635430Z",
     "shell.execute_reply": "2020-07-01T01:44:34.635061Z"
    },
    "papermill": {
     "duration": 0.008469,
     "end_time": "2020-07-01T01:44:34.635520",
     "exception": false,
     "start_time": "2020-07-01T01:44:34.627051",
     "status": "completed"
    },
    "tags": []
   },
   "outputs": [
    {
     "name": "stdout",
     "output_type": "stream",
     "text": [
      "Another text\n"
     ]
    }
   ],
   "source": [
    "print(text)"
   ]
  },
  {
   "cell_type": "code",
   "execution_count": null,
   "metadata": {
    "papermill": {
     "duration": 0.003247,
     "end_time": "2020-07-01T01:44:34.642045",
     "exception": false,
     "start_time": "2020-07-01T01:44:34.638798",
     "status": "completed"
    },
    "tags": []
   },
   "outputs": [],
   "source": []
  }
 ],
 "metadata": {
  "jupytext": {
   "cell_metadata_filter": "tags,-all",
   "cell_metadata_json": true
  },
  "kernelspec": {
   "display_name": "Python 3",
   "language": "python",
   "name": "python3"
  },
  "language_info": {
   "codemirror_mode": {
    "name": "ipython",
    "version": 3
   },
   "file_extension": ".py",
   "mimetype": "text/x-python",
   "name": "python",
   "nbconvert_exporter": "python",
   "pygments_lexer": "ipython3",
   "version": "3.7.6"
  },
  "papermill": {
   "duration": 0.889462,
   "end_time": "2020-07-01T01:44:34.953891",
   "environment_variables": {},
   "exception": null,
   "input_path": "-",
   "output_path": "sample_notebook.ipynb",
   "parameters": {
    "text": "Another text"
   },
   "start_time": "2020-07-01T01:44:34.064429",
   "version": "2.1.2"
  }
 },
 "nbformat": 4,
 "nbformat_minor": 4
}