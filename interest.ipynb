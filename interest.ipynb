{
 "cells": [
  {
   "cell_type": "code",
   "execution_count": 1,
   "metadata": {},
   "outputs": [],
   "source": [
    "import numpy as np"
   ]
  },
  {
   "cell_type": "code",
   "execution_count": 7,
   "metadata": {},
   "outputs": [],
   "source": [
    "powers = np.random.randn(8, 4)\n",
    "f = 1.02"
   ]
  },
  {
   "cell_type": "code",
   "execution_count": 6,
   "metadata": {},
   "outputs": [
    {
     "data": {
      "text/plain": [
       "array([[-0.72393147,  1.46898025,  0.85498726,  0.08916172],\n",
       "       [ 0.35434179, -1.06692852,  0.42126777, -1.91386037],\n",
       "       [ 1.16920339,  1.69903811, -0.80407818,  2.44333196],\n",
       "       [ 0.53056351,  0.96679199,  2.37317308, -1.60081613],\n",
       "       [ 0.04863863,  1.08600458,  0.29855841,  3.03392866],\n",
       "       [ 0.16891252, -0.1900839 ,  0.1400505 ,  1.1463457 ],\n",
       "       [-1.2084939 ,  1.31733282, -2.06762343,  0.13860729],\n",
       "       [ 0.04008751, -0.17146921,  0.06849113,  0.90549393]])"
      ]
     },
     "execution_count": 6,
     "metadata": {},
     "output_type": "execute_result"
    }
   ],
   "source": [
    "powers"
   ]
  },
  {
   "cell_type": "code",
   "execution_count": 9,
   "metadata": {},
   "outputs": [
    {
     "data": {
      "text/plain": [
       "array([1.        , 1.02      , 1.0404    , 1.061208  , 1.08243216,\n",
       "       1.1040808 , 1.12616242, 1.14868567])"
      ]
     },
     "execution_count": 9,
     "metadata": {},
     "output_type": "execute_result"
    }
   ],
   "source": [
    "f_x = f ** np.arange(powers.shape[0])"
   ]
  },
  {
   "cell_type": "code",
   "execution_count": 14,
   "metadata": {},
   "outputs": [],
   "source": [
    "x = np.arange(powers.shape[0])\n",
    "y = np.arange(powers.shape[1])"
   ]
  },
  {
   "cell_type": "code",
   "execution_count": 19,
   "metadata": {},
   "outputs": [
    {
     "data": {
      "text/plain": [
       "array([[0., 0., 0., 0.],\n",
       "       [0., 0., 0., 0.],\n",
       "       [0., 0., 0., 0.],\n",
       "       [0., 0., 0., 0.],\n",
       "       [0., 0., 0., 0.],\n",
       "       [0., 0., 0., 0.],\n",
       "       [0., 0., 0., 0.],\n",
       "       [0., 0., 0., 0.]])"
      ]
     },
     "execution_count": 19,
     "metadata": {},
     "output_type": "execute_result"
    }
   ],
   "source": [
    "np.zeros(powers.shape)"
   ]
  },
  {
   "cell_type": "code",
   "execution_count": 28,
   "metadata": {},
   "outputs": [],
   "source": [
    ")"
   ]
  },
  {
   "cell_type": "code",
   "execution_count": 29,
   "metadata": {},
   "outputs": [
    {
     "data": {
      "text/plain": [
       "array([[1.        , 0.98      , 0.9604    , 0.941192  ],\n",
       "       [0.98      , 0.98      , 0.9604    , 0.941192  ],\n",
       "       [0.9604    , 0.9604    , 0.9604    , 0.941192  ],\n",
       "       [0.941192  , 0.941192  , 0.941192  , 0.941192  ],\n",
       "       [0.92236816, 0.92236816, 0.92236816, 0.92236816],\n",
       "       [0.9039208 , 0.9039208 , 0.9039208 , 0.9039208 ],\n",
       "       [0.88584238, 0.88584238, 0.88584238, 0.88584238],\n",
       "       [0.86812553, 0.86812553, 0.86812553, 0.86812553]])"
      ]
     },
     "execution_count": 29,
     "metadata": {},
     "output_type": "execute_result"
    }
   ],
   "source": [
    "0.98 ** A"
   ]
  },
  {
   "cell_type": "code",
   "execution_count": 30,
   "metadata": {},
   "outputs": [
    {
     "data": {
      "text/plain": [
       "(8, 4)"
      ]
     },
     "execution_count": 30,
     "metadata": {},
     "output_type": "execute_result"
    }
   ],
   "source": [
    "A.shape"
   ]
  },
  {
   "cell_type": "code",
   "execution_count": null,
   "metadata": {},
   "outputs": [],
   "source": []
  }
 ],
 "metadata": {
  "kernelspec": {
   "display_name": "Python 3",
   "language": "python",
   "name": "python3"
  },
  "language_info": {
   "codemirror_mode": {
    "name": "ipython",
    "version": 3
   },
   "file_extension": ".py",
   "mimetype": "text/x-python",
   "name": "python",
   "nbconvert_exporter": "python",
   "pygments_lexer": "ipython3",
   "version": "3.7.6"
  }
 },
 "nbformat": 4,
 "nbformat_minor": 4
}
