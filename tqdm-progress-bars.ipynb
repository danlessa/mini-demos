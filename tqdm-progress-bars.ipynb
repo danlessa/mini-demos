{
 "cells": [
  {
   "cell_type": "markdown",
   "metadata": {},
   "source": [
    "# Progress bars with tqdm"
   ]
  },
  {
   "cell_type": "markdown",
   "metadata": {},
   "source": []
  },
  {
   "cell_type": "code",
   "execution_count": 3,
   "metadata": {},
   "outputs": [
    {
     "name": "stdout",
     "output_type": "stream",
     "text": [
      "done\n"
     ]
    }
   ],
   "source": [
    "N = int(1e7)\n",
    "iterator = range(N)\n",
    "for i in iterator:\n",
    "    pass\n",
    "print(\"done\")"
   ]
  },
  {
   "cell_type": "code",
   "execution_count": 4,
   "metadata": {},
   "outputs": [
    {
     "name": "stderr",
     "output_type": "stream",
     "text": [
      "100%|██████████| 10000000/10000000 [00:02<00:00, 4941489.88it/s]"
     ]
    },
    {
     "name": "stdout",
     "output_type": "stream",
     "text": [
      "done\n"
     ]
    },
    {
     "name": "stderr",
     "output_type": "stream",
     "text": [
      "\n"
     ]
    }
   ],
   "source": [
    "from tqdm import tqdm\n",
    "N = int(1e7)\n",
    "iterator = range(N)\n",
    "for i in tqdm(iterator):\n",
    "    pass\n",
    "print(\"done\")"
   ]
  },
  {
   "cell_type": "code",
   "execution_count": 5,
   "metadata": {},
   "outputs": [
    {
     "name": "stderr",
     "output_type": "stream",
     "text": [
      "Iterating some passes: 100%|██████████| 10000000/10000000 [00:02<00:00, 4456961.19it/s]"
     ]
    },
    {
     "name": "stdout",
     "output_type": "stream",
     "text": [
      "done\n"
     ]
    },
    {
     "name": "stderr",
     "output_type": "stream",
     "text": [
      "\n"
     ]
    }
   ],
   "source": [
    "from tqdm import tqdm\n",
    "N = int(1e7)\n",
    "iterator = range(N)\n",
    "for i in tqdm(iterator,\n",
    "              desc='Iterating some passes'):\n",
    "    pass\n",
    "print(\"done\")"
   ]
  },
  {
   "cell_type": "code",
   "execution_count": 7,
   "metadata": {},
   "outputs": [
    {
     "name": "stderr",
     "output_type": "stream",
     "text": [
      "Iterating some passes:   0%|          | 0/5 [00:00<?, ?it/s]\n",
      "Nested iteration: 100%|██████████| 1000/1000 [00:00<00:00, 3026193.36it/s]\n",
      "\n",
      "Nested iteration: 100%|██████████| 1000/1000 [00:00<00:00, 3125412.82it/s]\n",
      "\n",
      "Nested iteration: 100%|██████████| 1000/1000 [00:00<00:00, 3233850.42it/s]\n",
      "\n",
      "Nested iteration: 100%|██████████| 1000/1000 [00:00<00:00, 3221431.64it/s]\n",
      "\n",
      "Nested iteration: 100%|██████████| 1000/1000 [00:00<00:00, 3187161.09it/s]\n",
      "                                                            "
     ]
    },
    {
     "name": "stdout",
     "output_type": "stream",
     "text": [
      "done\n"
     ]
    },
    {
     "name": "stderr",
     "output_type": "stream",
     "text": [
      "\r"
     ]
    }
   ],
   "source": [
    "from tqdm import tqdm\n",
    "N = int(1e3)\n",
    "iterator = range(N)\n",
    "iterator_2 = range(N)\n",
    "for i in tqdm(range(5),\n",
    "              desc='Iterating some passes',\n",
    "              leave=False\n",
    "              ):\n",
    "    for j in tqdm(iterator_2,\n",
    "                  desc='Nested iteration'):\n",
    "        pass\n",
    "print(\"done\")"
   ]
  },
  {
   "cell_type": "code",
   "execution_count": null,
   "metadata": {},
   "outputs": [],
   "source": []
  }
 ],
 "metadata": {
  "kernelspec": {
   "display_name": "Python 3",
   "language": "python",
   "name": "python3"
  },
  "language_info": {
   "codemirror_mode": {
    "name": "ipython",
    "version": 3
   },
   "file_extension": ".py",
   "mimetype": "text/x-python",
   "name": "python",
   "nbconvert_exporter": "python",
   "pygments_lexer": "ipython3",
   "version": "3.7.6"
  }
 },
 "nbformat": 4,
 "nbformat_minor": 4
}
